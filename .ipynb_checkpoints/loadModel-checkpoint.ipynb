{
 "cells": [
  {
   "cell_type": "code",
   "execution_count": 1,
   "id": "d424de81",
   "metadata": {},
   "outputs": [],
   "source": [
    "import tensorflow as tf\n",
    "import tensorflow as tf\n",
    "from tensorflow import keras\n",
    "from tensorflow.keras import layers\n",
    "\n",
    "# hyperparameters\n",
    "batch_size = 64 # how many independent sequences will we process in parallel?\n",
    "block_size = 128 # what is the maximum context length for predictions?\n",
    "max_iters = 2000\n",
    "eval_interval = 100\n",
    "learning_rate = 3e-3\n",
    "eval_iters = 200\n",
    "n_embd = 384\n",
    "n_head = 4\n",
    "n_layer = 4\n",
    "dropout = 0.2\n",
    "# ------------"
   ]
  },
  {
   "cell_type": "code",
   "execution_count": 2,
   "id": "ac1dd2c3",
   "metadata": {},
   "outputs": [],
   "source": [
    "with open('input.txt', 'r', encoding='utf-8') as f:\n",
    "    text = f.read()\n",
    "\n",
    "# here are all the unique characters that occur in this text\n",
    "chars = sorted(list(set(text)))\n",
    "vocab_size = len(chars)\n",
    "# create a mapping from characters to integers\n",
    "stoi = { ch:i for i,ch in enumerate(chars) }\n",
    "itos = { i:ch for i,ch in enumerate(chars) }\n",
    "encode = lambda s: [stoi[c] for c in s] # encoder: take a string, output a list of integers\n",
    "decode = lambda l: ''.join([itos[i] for i in l]) # decoder: take a list of integers, output a string"
   ]
  },
  {
   "cell_type": "code",
   "execution_count": 3,
   "id": "2b8c9150",
   "metadata": {},
   "outputs": [],
   "source": [
    "# Train and test splits\n",
    "data = tf.convert_to_tensor(encode(text), dtype=tf.int64)\n",
    "n = int(0.9*len(data)) # first 90% will be train, rest val\n",
    "train_data = data[:n]\n",
    "val_data = data[n:]"
   ]
  },
  {
   "cell_type": "code",
   "execution_count": 4,
   "id": "26a85083",
   "metadata": {},
   "outputs": [],
   "source": [
    "g1 = tf.random.Generator.from_seed(1331)\n",
    "\n",
    "def get_batch(split):\n",
    "    # generate a small batch of data of inputs x and targets y\n",
    "    data = train_data if split == 'train' else val_data\n",
    "    ix = g1.uniform(minval=0,maxval=len(data)-block_size,shape=[batch_size,],dtype=tf.dtypes.int64)\n",
    "    \n",
    "    x = tf.map_fn(lambda i:tf.gather(data, tf.range(i,i+block_size)), ix,dtype=tf.dtypes.int64)\n",
    "    y = tf.map_fn(lambda i:tf.gather(data, tf.range(i+1,i+block_size+1)), ix,dtype=tf.dtypes.int64)\n",
    "\n",
    "    return tf.stack(x), tf.stack(y)"
   ]
  },
  {
   "cell_type": "code",
   "execution_count": 5,
   "id": "baa06e69",
   "metadata": {},
   "outputs": [],
   "source": [
    "def estimate_loss():\n",
    "    out = {}\n",
    "    for split in ['train', 'val']:\n",
    "        losses =[0]*eval_iters\n",
    "        for k in range(eval_iters):\n",
    "            X, Y = get_batch(split)\n",
    "            logits, loss = model(X, Y)\n",
    "            losses[k] = loss.numpy().tolist()\n",
    "        out[split] = tf.math.reduce_mean(tf.constant(losses))\n",
    "    return out"
   ]
  },
  {
   "cell_type": "code",
   "execution_count": 6,
   "id": "e8f039c6",
   "metadata": {},
   "outputs": [],
   "source": [
    "class Head(layers.Layer):\n",
    "    \"\"\" one head of self-attention \"\"\"\n",
    "\n",
    "    def __init__(self, head_size):\n",
    "        super(Head, self).__init__()\n",
    "        self.key = layers.Dense(head_size, use_bias=False,input_shape=(None,n_embd))\n",
    "        self.query = layers.Dense(head_size, use_bias=False,input_shape=(None,n_embd))\n",
    "        self.value = layers.Dense(head_size, use_bias=False,input_shape=(None,n_embd))\n",
    "        self.tril = tf.linalg.LinearOperatorLowerTriangular(tf.ones((block_size, block_size)))\n",
    "        self.dropout = layers.Dropout(dropout)\n",
    "\n",
    "    def call(self, x):\n",
    "        # input of size (batch, time-step, channels)\n",
    "        # output of size (batch, time-step, head size)\n",
    "        B,T,C = x.shape\n",
    "        k = self.key(x)   # (B,T,hs)\n",
    "        q = self.query(x) # (B,T,hs)\n",
    "        # compute attention scores (\"affinities\")\n",
    "        t = tf.transpose(k, perm=[0, 2, 1])\n",
    "        wei = q @ t * k.shape[-1]**-0.5 # (B, T, hs) @ (B, hs, T) -> (B, T, T)\n",
    "        wei = tf.where(tf.equal(self.tril.to_dense()[None, :T, :T], 0), float('-inf'), wei) # (B, T, T)\n",
    "        wei = tf.nn.softmax(wei,axis=-1) # (B, T, T)\n",
    "        wei = self.dropout(wei)\n",
    "        # perform the weighted aggregation of the values\n",
    "        v = self.value(x) # (B,T,hs)\n",
    "        out = wei @ v # (B, T, T) @ (B, T, hs) -> (B, T, hs)\n",
    "        return out\n"
   ]
  },
  {
   "cell_type": "code",
   "execution_count": 7,
   "id": "441ab06c",
   "metadata": {},
   "outputs": [],
   "source": [
    "class MultiHeadAttention(layers.Layer):\n",
    "    \"\"\" multiple heads of self-attention in parallel \"\"\"\n",
    "\n",
    "    def __init__(self, num_heads, head_size):\n",
    "        super(MultiHeadAttention, self).__init__()\n",
    "        self.heads = [Head(head_size) for _ in range(num_heads)]\n",
    "        self.proj = layers.Dense(n_embd,input_shape=(None,head_size * num_heads))\n",
    "        self.dropout = layers.Dropout(dropout)\n",
    "\n",
    "    def call(self, x):\n",
    "        head_outputs = [head(x) for head in self.heads]\n",
    "        out = tf.concat(head_outputs, axis=-1)\n",
    "        out = self.dropout(out)\n",
    "        out = self.proj(out)\n",
    "        return out"
   ]
  },
  {
   "cell_type": "code",
   "execution_count": 8,
   "id": "09c04aa1",
   "metadata": {},
   "outputs": [],
   "source": [
    "from tensorflow.keras import Sequential\n",
    "class FeedFoward(layers.Layer):\n",
    "    \"\"\" a simple linear layer followed by a non-linearity \"\"\"\n",
    "\n",
    "    def __init__(self, n_embd):\n",
    "        super(FeedFoward,self).__init__()\n",
    "        self.net = Sequential([layers.Dense(4 * n_embd),\n",
    "                               layers.ReLU(),\n",
    "                               layers.Dense(n_embd),\n",
    "                               layers.Dropout(dropout)\n",
    "                              ])\n",
    "\n",
    "    def call(self, x):\n",
    "        return self.net(x)"
   ]
  },
  {
   "cell_type": "code",
   "execution_count": 9,
   "id": "e86068cf",
   "metadata": {},
   "outputs": [],
   "source": [
    "class Block(layers.Layer):\n",
    "    \"\"\" Transformer block: communication followed by computation \"\"\"\n",
    "\n",
    "    def __init__(self, n_embd, n_head):\n",
    "        # n_embd: embedding dimension, n_head: the number of heads we'd like\n",
    "        super(Block,self).__init__()\n",
    "        head_size = n_embd // n_head\n",
    "        self.sa = MultiHeadAttention(n_head, head_size)\n",
    "        self.ffwd = FeedFoward(n_embd)\n",
    "        self.ln1 = layers.LayerNormalization()\n",
    "        self.ln2 = layers.LayerNormalization()\n",
    "\n",
    "    def call(self, x):\n",
    "        s = self.sa(self.ln1(x))\n",
    "        x = x + s\n",
    "        f = self.ffwd(self.ln2(x))\n",
    "        x = x + f\n",
    "        return(x)"
   ]
  },
  {
   "cell_type": "code",
   "execution_count": 27,
   "id": "231b0ebe",
   "metadata": {},
   "outputs": [],
   "source": [
    "class GPTLanguageModel(layers.Layer):\n",
    "\n",
    "    def __init__(self):\n",
    "        super(GPTLanguageModel, self).__init__()\n",
    "        # each token directly reads off the logits for the next token from a lookup table\n",
    "        self.token_embedding_table = layers.Embedding(vocab_size, n_embd,name=\"em1\")\n",
    "        self.position_embedding_table = layers.Embedding(block_size, n_embd,name=\"em2\")\n",
    "        self.blocks = keras.Sequential([Block(n_embd, n_head=n_head) for _ in range(n_layer)])\n",
    "        self.ln_f = layers.LayerNormalization() # final layer norm\n",
    "        self.lm_head = layers.Dense(vocab_size,input_shape=(None,4 * n_embd),name=\"dense1\")\n",
    "\n",
    "        # better init, not covered in the original GPT video, but important, will cover in followup video\n",
    "        self._init_weights()\n",
    "        \n",
    "\n",
    "    \n",
    "    def _init_weights(self):\n",
    "        \n",
    "        for module in self.submodules:\n",
    "            if isinstance(module, layers.Dense):\n",
    "                module.kernel_initializer = keras.initializers.RandomNormal(mean=0.0, stddev=0.02)\n",
    "                if module.use_bias:\n",
    "                    module.bias_initializer = keras.initializers.Zeros()\n",
    "            elif isinstance(module, layers.Embedding):\n",
    "                module.embeddings_initializer = keras.initializers.RandomNormal(mean=0.0, stddev=0.02)\n",
    "    \n",
    "\n",
    "\n",
    "    def call(self, idx, targets=None):\n",
    "        \n",
    "        B, T = idx.shape\n",
    "        # idx and targets are both (B,T) tensor of integers\n",
    "        tok_emb = self.token_embedding_table(idx) # (B,T,C)\n",
    "        pos_emb = self.position_embedding_table(tf.range(T, dtype=tf.int32)) # (T,C)\n",
    "        x = tok_emb + pos_emb # (B,T,C)\n",
    "        x = self.blocks(x) # (B,T,C)\n",
    "        x = self.ln_f(x) # (B,T,C)\n",
    "        logits = self.lm_head(x) # (B,T,vocab_size)\n",
    "\n",
    "        if targets is None:\n",
    "            loss = None\n",
    "        else:\n",
    "            B, T, C = logits.shape\n",
    "            logits = tf.reshape(logits, (B*T, C))\n",
    "            targets = tf.reshape(targets, B*T)\n",
    "            loss = tf.keras.losses.sparse_categorical_crossentropy(targets, logits, from_logits=True)\n",
    "            loss = tf.reduce_mean(loss)\n",
    "\n",
    "        return logits, loss\n",
    "\n",
    "    def generate(self, idx, max_new_tokens):\n",
    "        \n",
    "        # idx is (B, T) array of indices in the current context\n",
    "        for _ in range(max_new_tokens):\n",
    "            # crop idx to the last block_size tokens\n",
    "            idx_cond = idx[:, -block_size:]\n",
    "            # get the predictions\n",
    "            logits, _ = self(idx_cond)\n",
    "            # focus only on the last time step\n",
    "            logits = logits[:, -1, :]  # becomes (B, C)\n",
    "            # apply softmax to get probabilities\n",
    "            probs = tf.nn.softmax(logits, axis=-1)  # (B, C)\n",
    "            # sample from the distribution\n",
    "            idx_next = tf.random.categorical(probs, num_samples=1, dtype=tf.int32)  # (B, 1)\n",
    "            # append sampled index to the running sequence\n",
    "            idx = tf.concat([idx, idx_next], axis=1)  # (B, T+1)\n",
    "        return idx\n",
    "    \n",
    "    def saveModel():\n",
    "        x = model.weights\n",
    "        folder = \"model/\"\n",
    "        for i in x:\n",
    "            fileName = str(i.name.replace('/','__').replace(':','##')) +\".txt\"\n",
    "            f = open(str(folder+fileName),\"w\")\n",
    "            numpy.savetxt(f,i)\n",
    "            f.close()"
   ]
  },
  {
   "cell_type": "code",
   "execution_count": 28,
   "id": "2c9a6864",
   "metadata": {},
   "outputs": [],
   "source": [
    "model = GPTLanguageModel()"
   ]
  },
  {
   "cell_type": "code",
   "execution_count": null,
   "id": "aa41e6fc",
   "metadata": {},
   "outputs": [],
   "source": [
    "\n",
    "\n",
    "for i in x:\n",
    "    modelName = str(i.split('.txt')[0].replace('__','/').replace('##',':'))\n",
    "    f = open(i,\"r\")\n",
    "    modelData = numpy.loadtext(f,i)\n",
    "    model.set_weights()\n",
    "    f.close()"
   ]
  },
  {
   "cell_type": "code",
   "execution_count": 33,
   "id": "cd9503c2",
   "metadata": {},
   "outputs": [
    {
     "data": {
      "text/plain": [
       "'dense_121'"
      ]
     },
     "execution_count": 33,
     "metadata": {},
     "output_type": "execute_result"
    }
   ],
   "source": [
    "model.submodules[4].name"
   ]
  },
  {
   "cell_type": "code",
   "execution_count": null,
   "id": "ba6e3b93",
   "metadata": {},
   "outputs": [],
   "source": [
    "import os\n",
    "x = os.listDir(\"/model/\")\n",
    "\n",
    "def loadModel(m):\n",
    "    for layer in m.submodules:\n",
    "        if isinstance(layer, tf.keras.models.Model):\n",
    "            loadModel(layer)\n",
    "        else:\n",
    "            f = open()\n",
    "            weights = numpy.loadtxt(f)\n",
    "            layer.set_weights(weights)\n",
    "        \n",
    "        "
   ]
  },
  {
   "cell_type": "code",
   "execution_count": 38,
   "id": "fda75fef",
   "metadata": {},
   "outputs": [],
   "source": [
    "from tensorflow.python.util import tf_export\n",
    "from tensorflow.python.util.tf_export import keras_export"
   ]
  },
  {
   "cell_type": "code",
   "execution_count": 49,
   "id": "24996520",
   "metadata": {},
   "outputs": [
    {
     "name": "stdout",
     "output_type": "stream",
     "text": [
      "{'class_name': 'Embedding', 'module': 'keras.layers', 'registered_name': None}\n",
      "{'class_name': 'Embedding', 'module': 'keras.layers', 'registered_name': None}\n",
      "{'class_name': 'Sequential', 'module': 'keras', 'registered_name': None}\n",
      "{'class_name': 'LayerNormalization',\n",
      " 'module': 'keras.layers',\n",
      " 'registered_name': None}\n",
      "{'class_name': 'Dense', 'module': 'keras.layers', 'registered_name': None}\n"
     ]
    },
    {
     "ename": "AttributeError",
     "evalue": "'NoneType' object has no attribute 'split'",
     "output_type": "error",
     "traceback": [
      "\u001b[1;31m---------------------------------------------------------------------------\u001b[0m",
      "\u001b[1;31mAttributeError\u001b[0m                            Traceback (most recent call last)",
      "Cell \u001b[1;32mIn[49], line 5\u001b[0m\n\u001b[0;32m      1\u001b[0m \u001b[38;5;28;01mfor\u001b[39;00m i \u001b[38;5;129;01min\u001b[39;00m model\u001b[38;5;241m.\u001b[39msubmodules:\n\u001b[0;32m      2\u001b[0m     x \u001b[38;5;241m=\u001b[39m tf_export\u001b[38;5;241m.\u001b[39mget_canonical_name_for_symbol(\n\u001b[0;32m      3\u001b[0m             i\u001b[38;5;241m.\u001b[39m\u001b[38;5;18m__class__\u001b[39m, api_name\u001b[38;5;241m=\u001b[39m\u001b[38;5;124m\"\u001b[39m\u001b[38;5;124mkeras\u001b[39m\u001b[38;5;124m\"\u001b[39m\n\u001b[0;32m      4\u001b[0m         )\n\u001b[1;32m----> 5\u001b[0m     parts \u001b[38;5;241m=\u001b[39m \u001b[43mx\u001b[49m\u001b[38;5;241;43m.\u001b[39;49m\u001b[43msplit\u001b[49m(\u001b[38;5;124m\"\u001b[39m\u001b[38;5;124m.\u001b[39m\u001b[38;5;124m\"\u001b[39m)\n\u001b[0;32m      6\u001b[0m     module \u001b[38;5;241m=\u001b[39m \u001b[38;5;124m\"\u001b[39m\u001b[38;5;124m.\u001b[39m\u001b[38;5;124m\"\u001b[39m\u001b[38;5;241m.\u001b[39mjoin(parts[:\u001b[38;5;241m-\u001b[39m\u001b[38;5;241m1\u001b[39m])\n\u001b[0;32m      7\u001b[0m     class_name \u001b[38;5;241m=\u001b[39m parts[\u001b[38;5;241m-\u001b[39m\u001b[38;5;241m1\u001b[39m]\n",
      "\u001b[1;31mAttributeError\u001b[0m: 'NoneType' object has no attribute 'split'"
     ]
    }
   ],
   "source": [
    "for i in model.submodules:\n",
    "    x = tf_export.get_canonical_name_for_symbol(\n",
    "            i.__class__, api_name=\"keras\"\n",
    "        )\n",
    "    parts = x.split(\".\")\n",
    "    module = \".\".join(parts[:-1])\n",
    "    class_name = parts[-1]\n",
    "    registered_name = None\n",
    "    config = {\n",
    "        \"module\": module,\n",
    "        \"class_name\": class_name,\n",
    "        \"registered_name\": registered_name,\n",
    "    }\n",
    "    if hasattr(i, \"get_build_config\"):\n",
    "        build_config = i.get_build_config()\n",
    "        if build_config is not None:\n",
    "            config[\"build_config\"] = serialize_dict(build_config)\n",
    "    if hasattr(i, \"get_compile_config\"):\n",
    "        compile_config = i.get_compile_config()\n",
    "        if compile_config is not None:\n",
    "            config[\"compile_config\"] = serialize_dict(compile_config)\n",
    "    \n",
    "    print(config)"
   ]
  },
  {
   "cell_type": "code",
   "execution_count": 43,
   "id": "f5446dab",
   "metadata": {},
   "outputs": [
    {
     "data": {
      "text/plain": [
       "__main__.GPTLanguageModel"
      ]
     },
     "execution_count": 43,
     "metadata": {},
     "output_type": "execute_result"
    }
   ],
   "source": [
    "model.__class__"
   ]
  },
  {
   "cell_type": "code",
   "execution_count": null,
   "id": "122bac6b",
   "metadata": {},
   "outputs": [],
   "source": []
  }
 ],
 "metadata": {
  "kernelspec": {
   "display_name": "Python 3 (ipykernel)",
   "language": "python",
   "name": "python3"
  },
  "language_info": {
   "codemirror_mode": {
    "name": "ipython",
    "version": 3
   },
   "file_extension": ".py",
   "mimetype": "text/x-python",
   "name": "python",
   "nbconvert_exporter": "python",
   "pygments_lexer": "ipython3",
   "version": "3.10.11"
  }
 },
 "nbformat": 4,
 "nbformat_minor": 5
}
