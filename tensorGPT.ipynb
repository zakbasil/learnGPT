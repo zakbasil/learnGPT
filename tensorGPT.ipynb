{
 "cells": [
  {
   "cell_type": "code",
   "execution_count": null,
   "id": "d424de81",
   "metadata": {},
   "outputs": [],
   "source": [
    "import tensorflow as tf\n",
    "import tensorflow as tf\n",
    "from tensorflow import keras\n",
    "from tensorflow.keras import layers\n",
    "import time\n",
    "import numpy\n",
    "\n",
    "tf.config.run_functions_eagerly(False)\n",
    "\n",
    "# hyperparameters\n",
    "batch_size = 24 # how many independent sequences will we process in parallel?\n",
    "block_size = 256 # what is the maximum context length for predictions?\n",
    "max_iters = 10000\n",
    "eval_interval = 100\n",
    "learning_rate = 3e-4\n",
    "eval_iters = 300\n",
    "n_embd = 384\n",
    "n_head = 6\n",
    "n_layer = 6\n",
    "dropout = 0.1\n",
    "# ------------"
   ]
  },
  {
   "cell_type": "code",
   "execution_count": null,
   "id": "ac1dd2c3",
   "metadata": {},
   "outputs": [],
   "source": [
    "with open('input.txt', 'r', encoding='utf-8') as f:\n",
    "    text = f.read()\n",
    "\n",
    "# here are all the unique characters that occur in this text\n",
    "chars = sorted(list(set(text)))\n",
    "vocab_size = len(chars)\n",
    "# create a mapping from characters to integers\n",
    "stoi = { ch:i for i,ch in enumerate(chars) }\n",
    "itos = { i:ch for i,ch in enumerate(chars) }\n",
    "encode = lambda s: [stoi[c] for c in s] # encoder: take a string, output a list of integers\n",
    "decode = lambda l: ''.join([itos[i] for i in l]) # decoder: take a list of integers, output a string"
   ]
  },
  {
   "cell_type": "code",
   "execution_count": null,
   "id": "2b8c9150",
   "metadata": {},
   "outputs": [],
   "source": [
    "# Train and test splits\n",
    "data = tf.convert_to_tensor(encode(text), dtype=tf.int64)\n",
    "n = int(0.95*len(data)) # first 90% will be train, rest val\n",
    "train_data = data[:n]\n",
    "val_data = data[n:]"
   ]
  },
  {
   "cell_type": "code",
   "execution_count": null,
   "id": "26a85083",
   "metadata": {},
   "outputs": [],
   "source": [
    "g1 = tf.random.Generator.from_seed(1331)\n",
    "\n",
    "def get_batch(split):\n",
    "    # generate a small batch of data of inputs x and targets y\n",
    "    data = train_data if split == 'train' else val_data\n",
    "    ix = g1.uniform(minval=0,maxval=len(data)-block_size,shape=[batch_size,],dtype=tf.dtypes.int64)\n",
    "    \n",
    "    x = tf.map_fn(lambda i:tf.gather(data, tf.range(i,i+block_size)), ix,dtype=tf.dtypes.int64)\n",
    "    y = tf.map_fn(lambda i:tf.gather(data, tf.range(i+1,i+block_size+1)), ix,dtype=tf.dtypes.int64)\n",
    "\n",
    "    return tf.stack(x), tf.stack(y)"
   ]
  },
  {
   "cell_type": "code",
   "execution_count": null,
   "id": "baa06e69",
   "metadata": {},
   "outputs": [],
   "source": [
    "def estimate_loss():\n",
    "    out = {}\n",
    "    for split in ['train', 'val']:\n",
    "        losses =[0]*eval_iters\n",
    "        for k in range(eval_iters):\n",
    "            X, Y = get_batch(split)\n",
    "            logits, loss = model(X, Y)\n",
    "            losses[k] = loss.numpy().tolist()\n",
    "        out[split] = tf.math.reduce_mean(tf.constant(losses))\n",
    "    return out"
   ]
  },
  {
   "cell_type": "code",
   "execution_count": null,
   "id": "e8f039c6",
   "metadata": {},
   "outputs": [],
   "source": [
    "class Head(layers.Layer):\n",
    "    \"\"\" one head of self-attention \"\"\"\n",
    "\n",
    "    def __init__(self, head_size):\n",
    "        super(Head, self).__init__()\n",
    "        self.key = layers.Dense(head_size, use_bias=False)\n",
    "        self.query = layers.Dense(head_size, use_bias=False)\n",
    "        self.value = layers.Dense(head_size, use_bias=False)\n",
    "        self.tril = tf.linalg.LinearOperatorLowerTriangular(tf.ones((block_size, block_size)))\n",
    "        #self.dropout = layers.Dropout(dropout)\n",
    "\n",
    "    def call(self, x):\n",
    "        # input of size (batch, time-step, channels)\n",
    "        # output of size (batch, time-step, head size)\n",
    "        B,T,C = x.shape\n",
    "        k = self.key(x)   # (B,T,hs)\n",
    "        q = self.query(x) # (B,T,hs)\n",
    "        # compute attention scores (\"affinities\")\n",
    "        t = tf.transpose(k, perm=[0, 2, 1])\n",
    "        wei = q @ t * k.shape[-1]**-0.5 # (B, T, hs) @ (B, hs, T) -> (B, T, T)\n",
    "        wei = tf.where(tf.equal(self.tril.to_dense()[None, :T, :T], 0), float('-inf'), wei) # (B, T, T)\n",
    "        wei = tf.nn.softmax(wei,axis=-1) # (B, T, T)\n",
    "        #wei = self.dropout(wei)\n",
    "        # perform the weighted aggregation of the values\n",
    "        v = self.value(x) # (B,T,hs)\n",
    "        out = wei @ v # (B, T, T) @ (B, T, hs) -> (B, T, hs)\n",
    "        return out\n"
   ]
  },
  {
   "cell_type": "code",
   "execution_count": null,
   "id": "441ab06c",
   "metadata": {},
   "outputs": [],
   "source": [
    "class MultiHeadAttention(layers.Layer):\n",
    "    \"\"\" multiple heads of self-attention in parallel \"\"\"\n",
    "\n",
    "    def __init__(self, num_heads, head_size):\n",
    "        super(MultiHeadAttention, self).__init__()\n",
    "        self.heads = [Head(head_size) for _ in range(num_heads)]\n",
    "        self.proj = layers.Dense(n_embd,input_shape=(None,head_size * num_heads))\n",
    "        #self.dropout = layers.Dropout(dropout)\n",
    "\n",
    "    def call(self, x):\n",
    "        head_outputs = [head(x) for head in self.heads]\n",
    "        out = tf.concat(head_outputs, axis=-1)\n",
    "        #out = self.dropout(out)\n",
    "        out = self.proj(out)\n",
    "        return out"
   ]
  },
  {
   "cell_type": "code",
   "execution_count": null,
   "id": "09c04aa1",
   "metadata": {},
   "outputs": [],
   "source": [
    "from tensorflow.keras import Sequential\n",
    "class FeedFoward(layers.Layer):\n",
    "    \"\"\" a simple linear layer followed by a non-linearity \"\"\"\n",
    "\n",
    "    def __init__(self, n_embd):\n",
    "        super(FeedFoward,self).__init__()\n",
    "        self.net = Sequential([layers.Dense(4 * n_embd),\n",
    "                               layers.ReLU(),\n",
    "                               layers.Dense(n_embd)#,\n",
    "                               #layers.Dropout(dropout)\n",
    "                              ])\n",
    "\n",
    "    def call(self, x):\n",
    "        return self.net(x)"
   ]
  },
  {
   "cell_type": "code",
   "execution_count": null,
   "id": "e86068cf",
   "metadata": {},
   "outputs": [],
   "source": [
    "class Block(layers.Layer):\n",
    "    \"\"\" Transformer block: communication followed by computation \"\"\"\n",
    "\n",
    "    def __init__(self, n_embd, n_head):\n",
    "        # n_embd: embedding dimension, n_head: the number of heads we'd like\n",
    "        super(Block,self).__init__()\n",
    "        head_size = n_embd // n_head\n",
    "        self.sa = MultiHeadAttention(n_head, head_size)\n",
    "        self.ffwd = FeedFoward(n_embd)\n",
    "        self.ln1 = layers.LayerNormalization(epsilon=1e-6)\n",
    "        self.ln2 = layers.LayerNormalization(epsilon=1e-6)\n",
    "\n",
    "    def call(self, x):\n",
    "        s = self.sa(self.ln1(x))\n",
    "        x = x + s\n",
    "        f = self.ffwd(self.ln2(x))\n",
    "        x = x + f\n",
    "        return(x)"
   ]
  },
  {
   "cell_type": "code",
   "execution_count": null,
   "id": "231b0ebe",
   "metadata": {},
   "outputs": [],
   "source": [
    "import os\n",
    "\n",
    "\n",
    "class GPTLanguageModel(layers.Layer):\n",
    "\n",
    "    def __init__(self):\n",
    "        super(GPTLanguageModel, self).__init__()\n",
    "        # each token directly reads off the logits for the next token from a lookup table\n",
    "        self.token_embedding_table = layers.Embedding(vocab_size, n_embd)\n",
    "        self.position_embedding_table = layers.Embedding(block_size, n_embd)\n",
    "        self.blocks = keras.Sequential([Block(n_embd, n_head=n_head) for _ in range(n_layer)])\n",
    "        self.ln_f = layers.LayerNormalization() # final layer norm\n",
    "        self.lm_head = layers.Dense(vocab_size,input_shape=(None,4 * n_embd))\n",
    "\n",
    "        # better init, not covered in the original GPT video, but important, will cover in followup video\n",
    "        self._init_weights()\n",
    "        \n",
    "\n",
    "    \n",
    "    def _init_weights(self):\n",
    "        \n",
    "        for module in self.submodules:\n",
    "            if isinstance(module, layers.Dense):\n",
    "                module.kernel_initializer = keras.initializers.RandomNormal(mean=0.0, stddev=0.02)\n",
    "                if module.use_bias:\n",
    "                    module.bias_initializer = keras.initializers.Zeros()\n",
    "            elif isinstance(module, layers.Embedding):\n",
    "                module.embeddings_initializer = keras.initializers.RandomNormal(mean=0.0, stddev=0.02)\n",
    "    \n",
    "\n",
    "\n",
    "    def call(self, idx, targets=None):\n",
    "        \n",
    "        B, T = idx.shape\n",
    "        # idx and targets are both (B,T) tensor of integers\n",
    "        tok_emb = self.token_embedding_table(idx) # (B,T,C)\n",
    "        pos_emb = self.position_embedding_table(tf.range(T, dtype=tf.int64)) # (T,C)\n",
    "        x = tok_emb + pos_emb # (B,T,C)\n",
    "        x = self.blocks(x) # (B,T,C)\n",
    "        x = self.ln_f(x) # (B,T,C)\n",
    "        logits = self.lm_head(x) # (B,T,vocab_size)\n",
    "\n",
    "        if targets is None:\n",
    "            loss = None\n",
    "        else:\n",
    "            B, T, C = logits.shape\n",
    "            logits = tf.reshape(logits, (B*T, C))\n",
    "            targets = tf.reshape(targets, B*T)\n",
    "            loss = tf.keras.losses.sparse_categorical_crossentropy(targets, logits, from_logits=True)\n",
    "            loss = tf.reduce_mean(loss)\n",
    "\n",
    "        return logits, loss\n",
    "\n",
    "    def generate(self, idx, max_new_tokens):\n",
    "        \n",
    "        # idx is (B, T) array of indices in the current context\n",
    "        for _ in range(max_new_tokens):\n",
    "            # crop idx to the last block_size tokens\n",
    "            idx_cond = idx[:, -block_size:]\n",
    "            # get the predictions\n",
    "            logits, _ = self(idx_cond)\n",
    "            # focus only on the last time step\n",
    "            logits = logits[:, -1, :]  # becomes (B, C)\n",
    "            # apply softmax to get probabilities\n",
    "            probs = tf.nn.softmax(logits, axis=-1)  # (B, C)\n",
    "            # sample from the distribution\n",
    "            idx_next = tf.random.categorical(probs, num_samples=1, dtype=tf.int64)  # (B, 1)\n",
    "            # append sampled index to the running sequence\n",
    "            idx = tf.concat([idx, idx_next], axis=1)  # (B, T+1)\n",
    "        return idx\n",
    "    \n",
    "    def saveModel(self):\n",
    "        folder = \"model_\" + str(time.time()).split('.')[0]\n",
    "        os.mkdir(folder)\n",
    "        x = self.weights\n",
    "        for i in x:\n",
    "            fileName = str(i.name.replace('/','__').replace(':','##')) +\".txt\"\n",
    "            f = open(str(folder+fileName),\"w\")\n",
    "            numpy.savetxt(f,i)\n",
    "            f.close()"
   ]
  },
  {
   "cell_type": "code",
   "execution_count": null,
   "id": "2c9a6864",
   "metadata": {},
   "outputs": [],
   "source": [
    "model = GPTLanguageModel()"
   ]
  },
  {
   "cell_type": "code",
   "execution_count": null,
   "id": "2969770c",
   "metadata": {},
   "outputs": [],
   "source": []
  },
  {
   "cell_type": "code",
   "execution_count": null,
   "id": "37b886bd",
   "metadata": {
    "scrolled": true
   },
   "outputs": [],
   "source": [
    "# create a PyTorch optimizer\n",
    "optimizer = tf.optimizers.experimental.AdamW(learning_rate=learning_rate)\n",
    "context = tf.zeros((1,1), dtype=tf.int64)\n",
    "plotLoss = []\n",
    "plotValLoss = []\n",
    "for i in range(max_iters):\n",
    "\n",
    "    # every once in a while evaluate the loss on train and val sets\n",
    "    if i % eval_interval == 0 or i == max_iters - 1:\n",
    "        losses = estimate_loss()\n",
    "        print(f\"step {i}: train loss {losses['train']:.4f}, val loss {losses['val']:.4f}\")\n",
    "        plotValLoss.append(losses['val'])\n",
    "        sample = decode(model.generate(context, max_new_tokens=100)[0].numpy().tolist())\n",
    "        print(sample,\"\\n======================\\n\")\n",
    "\n",
    "    # sample a batch of data\n",
    "    xb, yb = get_batch('train')\n",
    "\n",
    "    # evaluate the loss\n",
    "    with tf.GradientTape() as tape:\n",
    "        logits, loss = model(xb, yb)\n",
    "        plotLoss.append(loss)\n",
    "    gradients = tape.gradient(loss, model.trainable_weights)\n",
    "    optimizer.apply_gradients(zip(gradients, model.trainable_weights))\n",
    "model.saveModel()"
   ]
  },
  {
   "cell_type": "code",
   "execution_count": null,
   "id": "065a5155",
   "metadata": {
    "scrolled": true
   },
   "outputs": [],
   "source": [
    "# model.get_weights()"
   ]
  },
  {
   "cell_type": "code",
   "execution_count": null,
   "id": "24265085",
   "metadata": {},
   "outputs": [],
   "source": [
    "model.count_params()"
   ]
  },
  {
   "cell_type": "code",
   "execution_count": null,
   "id": "b0ffaf6d",
   "metadata": {},
   "outputs": [],
   "source": [
    "model.get_config()"
   ]
  },
  {
   "cell_type": "code",
   "execution_count": null,
   "id": "bddac25f",
   "metadata": {},
   "outputs": [],
   "source": [
    "# model.get_weights()"
   ]
  },
  {
   "cell_type": "code",
   "execution_count": null,
   "id": "0157c947",
   "metadata": {},
   "outputs": [],
   "source": [
    "len([*range(0,max_iters+1,eval_interval)])"
   ]
  },
  {
   "cell_type": "code",
   "execution_count": null,
   "id": "3cecee95",
   "metadata": {},
   "outputs": [],
   "source": [
    "import matplotlib.pyplot as plt\n",
    "import numpy as np\n",
    "\n",
    "y1 = np.array(plotLoss)\n",
    "y2 = np.array(plotValLoss)\n",
    "\n",
    "plt.plot([*range(0,max_iters)],y1)\n",
    "plt.plot([*range(0,max_iters+1,eval_interval)],y2)\n",
    "\n",
    "plt.show()"
   ]
  },
  {
   "cell_type": "code",
   "execution_count": null,
   "id": "e9dd2c6b",
   "metadata": {},
   "outputs": [],
   "source": []
  },
  {
   "cell_type": "code",
   "execution_count": null,
   "id": "d09e8ab0",
   "metadata": {},
   "outputs": [],
   "source": [
    "#import time\n",
    "#import numpy\n",
    "#x = model.weights\n",
    "#folder = \"model/\"\n",
    "#for i in x:\n",
    "#    fileName = str(i.name.replace('/','__').replace(':','##')) +\".txt\"\n",
    "#    f = open(str(folder+fileName),\"w\")\n",
    "#    numpy.savetxt(f,i)\n",
    "#    f.close()"
   ]
  },
  {
   "cell_type": "code",
   "execution_count": null,
   "id": "59639d1d",
   "metadata": {},
   "outputs": [],
   "source": [
    "#tf.test.gpu_device_name()"
   ]
  },
  {
   "cell_type": "code",
   "execution_count": null,
   "id": "477321b9",
   "metadata": {},
   "outputs": [],
   "source": [
    "context = tf.zeros((1,1), dtype=tf.int64)\n",
    "print(decode(model.generate(context, max_new_tokens=100)[0].numpy().tolist()))"
   ]
  },
  {
   "cell_type": "code",
   "execution_count": null,
   "id": "c36d336e",
   "metadata": {},
   "outputs": [],
   "source": []
  },
  {
   "cell_type": "code",
   "execution_count": null,
   "id": "5505e9e9",
   "metadata": {},
   "outputs": [],
   "source": [
    "#step 0: train loss 4.1344, val11 loss 4.1358\n",
    "#step 500: train loss 1.9654, val1 loss 2.0608\n",
    "#step 1000: train loss 1.5308, val1 loss 1.7140\n",
    "#step 1500: train loss 1.3840, val1 loss 1.5959\n",
    "#step 2000: train loss 1.3039, val1 loss 1.5739\n",
    "#step 2500: train loss 1.2459, val1 loss 1.5446\n",
    "#step 3000: train loss 1.1882, val1 loss 1.5414\n",
    "#step 3500: train loss 1.1322, val1 loss 1.5643\n",
    "#step 4000: train loss 1.0745, val1 loss 1.5777\n",
    "#step 4500: train loss 1.0114, val1 loss 1.6254\n",
    "#step 5000: train loss 0.9423, val1 loss 1.6745"
   ]
  },
  {
   "cell_type": "code",
   "execution_count": null,
   "id": "bd0cb03f",
   "metadata": {},
   "outputs": [],
   "source": []
  },
  {
   "cell_type": "code",
   "execution_count": null,
   "id": "27c204cd",
   "metadata": {},
   "outputs": [],
   "source": [
    "import tensorflow as tf\n",
    "\n",
    "x = tf.constant([1,2,3,4],[5,6,7,8])\n",
    "\n",
    "x.transpose()"
   ]
  }
 ],
 "metadata": {
  "kernelspec": {
   "display_name": "Python 3 (ipykernel)",
   "language": "python",
   "name": "python3"
  },
  "language_info": {
   "codemirror_mode": {
    "name": "ipython",
    "version": 3
   },
   "file_extension": ".py",
   "mimetype": "text/x-python",
   "name": "python",
   "nbconvert_exporter": "python",
   "pygments_lexer": "ipython3",
   "version": "3.10.11"
  }
 },
 "nbformat": 4,
 "nbformat_minor": 5
}
